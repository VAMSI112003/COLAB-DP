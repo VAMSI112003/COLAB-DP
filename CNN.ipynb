{
  "nbformat": 4,
  "nbformat_minor": 0,
  "metadata": {
    "colab": {
      "provenance": [],
      "authorship_tag": "ABX9TyOS81JxYbdsGF9xg1Y5xgBq",
      "include_colab_link": true
    },
    "kernelspec": {
      "name": "python3",
      "display_name": "Python 3"
    },
    "language_info": {
      "name": "python"
    }
  },
  "cells": [
    {
      "cell_type": "markdown",
      "metadata": {
        "id": "view-in-github",
        "colab_type": "text"
      },
      "source": [
        "<a href=\"https://colab.research.google.com/github/VAMSI112003/COLAB-DP/blob/main/CNN.ipynb\" target=\"_parent\"><img src=\"https://colab.research.google.com/assets/colab-badge.svg\" alt=\"Open In Colab\"/></a>"
      ]
    },
    {
      "cell_type": "code",
      "execution_count": 1,
      "metadata": {
        "colab": {
          "base_uri": "https://localhost:8080/"
        },
        "id": "5_6PU9ZcbUxt",
        "outputId": "86de7368-04d5-4b2c-dd84-d584facb6b35"
      },
      "outputs": [
        {
          "output_type": "stream",
          "name": "stdout",
          "text": [
            "Downloading data from https://storage.googleapis.com/tensorflow/tf-keras-datasets/mnist.npz\n",
            "11490434/11490434 [==============================] - 0s 0us/step\n",
            "Epoch 1/10\n",
            "300/300 - 47s - loss: 0.3443 - accuracy: 0.8949 - 47s/epoch - 156ms/step\n",
            "Epoch 2/10\n",
            "300/300 - 40s - loss: 0.1054 - accuracy: 0.9689 - 40s/epoch - 133ms/step\n",
            "Epoch 3/10\n",
            "300/300 - 41s - loss: 0.0760 - accuracy: 0.9772 - 41s/epoch - 135ms/step\n",
            "Epoch 4/10\n",
            "300/300 - 39s - loss: 0.0603 - accuracy: 0.9822 - 39s/epoch - 130ms/step\n",
            "Epoch 5/10\n",
            "300/300 - 40s - loss: 0.0543 - accuracy: 0.9840 - 40s/epoch - 132ms/step\n",
            "Epoch 6/10\n",
            "300/300 - 39s - loss: 0.0445 - accuracy: 0.9866 - 39s/epoch - 131ms/step\n",
            "Epoch 7/10\n",
            "300/300 - 40s - loss: 0.0408 - accuracy: 0.9871 - 40s/epoch - 134ms/step\n",
            "Epoch 8/10\n",
            "300/300 - 40s - loss: 0.0378 - accuracy: 0.9886 - 40s/epoch - 133ms/step\n",
            "Epoch 9/10\n",
            "300/300 - 43s - loss: 0.0326 - accuracy: 0.9899 - 43s/epoch - 143ms/step\n",
            "Epoch 10/10\n",
            "300/300 - 40s - loss: 0.0305 - accuracy: 0.9906 - 40s/epoch - 132ms/step\n",
            "Test accuracy: 99.12%\n"
          ]
        }
      ],
      "source": [
        "#9 CNN\n",
        "import tensorflow as tf\n",
        "from tensorflow.keras.datasets import mnist\n",
        "from tensorflow.keras.models import Sequential\n",
        "from tensorflow.keras.layers import Conv2D, MaxPooling2D, Flatten, Dense, Dropout\n",
        "from tensorflow.keras.utils import to_categorical\n",
        "# Load and preprocess the dataset\n",
        "(x_train, y_train), (x_test, y_test) = mnist.load_data()\n",
        "x_train = x_train.reshape(x_train.shape[0], 28, 28, 1).astype('float32') / 255\n",
        "x_test = x_test.reshape(x_test.shape[0], 28, 28, 1).astype('float32') / 255\n",
        "y_train = to_categorical(y_train, 10)\n",
        "y_test = to_categorical(y_test, 10)\n",
        "# Build the CNN model\n",
        "model = Sequential()\n",
        "model.add(Conv2D(32, kernel_size=(3, 3), activation='relu', input_shape=(28, 28, 1)))\n",
        "model.add(MaxPooling2D(pool_size=(2, 2)))\n",
        "model.add(Conv2D(64, kernel_size=(3, 3), activation='relu'))\n",
        "model.add(MaxPooling2D(pool_size=(2, 2)))\n",
        "model.add(Flatten())\n",
        "model.add(Dense(128, activation='relu'))\n",
        "model.add(Dropout(0.5))\n",
        "model.add(Dense(10, activation='softmax'))\n",
        "model.compile(loss='categorical_crossentropy', optimizer='adam',metrics=['accuracy'])\n",
        "# Train the model\n",
        "model.fit(x_train, y_train, epochs=10,batch_size=200, verbose=2)\n",
        "# Evaluate the model\n",
        "test_loss, test_acc = model.evaluate(x_test, y_test, verbose=0)\n",
        "print(f'Test accuracy: {test_acc*100:.2f}%')"
      ]
    }
  ]
}