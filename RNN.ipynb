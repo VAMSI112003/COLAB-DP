{
  "nbformat": 4,
  "nbformat_minor": 0,
  "metadata": {
    "colab": {
      "provenance": [],
      "authorship_tag": "ABX9TyOPxN58H11o5iLortJQvD6m",
      "include_colab_link": true
    },
    "kernelspec": {
      "name": "python3",
      "display_name": "Python 3"
    },
    "language_info": {
      "name": "python"
    }
  },
  "cells": [
    {
      "cell_type": "markdown",
      "metadata": {
        "id": "view-in-github",
        "colab_type": "text"
      },
      "source": [
        "<a href=\"https://colab.research.google.com/github/VAMSI112003/COLAB-DP/blob/main/RNN.ipynb\" target=\"_parent\"><img src=\"https://colab.research.google.com/assets/colab-badge.svg\" alt=\"Open In Colab\"/></a>"
      ]
    },
    {
      "cell_type": "code",
      "execution_count": 1,
      "metadata": {
        "id": "QnZ6ntfxZ6TK",
        "outputId": "4573ac80-cdfd-4c26-d6e8-4a57861bf7cc",
        "colab": {
          "base_uri": "https://localhost:8080/"
        }
      },
      "outputs": [
        {
          "output_type": "stream",
          "name": "stdout",
          "text": [
            "Epoch 1/10\n",
            "4/4 [==============================] - 2s 18ms/step - loss: 1.2721\n",
            "Epoch 2/10\n",
            "4/4 [==============================] - 0s 12ms/step - loss: 1.2079\n",
            "Epoch 3/10\n",
            "4/4 [==============================] - 0s 13ms/step - loss: 1.1609\n",
            "Epoch 4/10\n",
            "4/4 [==============================] - 0s 8ms/step - loss: 1.1373\n",
            "Epoch 5/10\n",
            "4/4 [==============================] - 0s 11ms/step - loss: 1.1119\n",
            "Epoch 6/10\n",
            "4/4 [==============================] - 0s 11ms/step - loss: 1.0977\n",
            "Epoch 7/10\n",
            "4/4 [==============================] - 0s 13ms/step - loss: 1.0771\n",
            "Epoch 8/10\n",
            "4/4 [==============================] - 0s 13ms/step - loss: 1.0558\n",
            "Epoch 9/10\n",
            "4/4 [==============================] - 0s 11ms/step - loss: 1.0418\n",
            "Epoch 10/10\n",
            "4/4 [==============================] - 0s 9ms/step - loss: 1.0303\n",
            "1/1 [==============================] - 1s 1s/step - loss: 0.8024\n"
          ]
        },
        {
          "output_type": "execute_result",
          "data": {
            "text/plain": [
              "0.8024494051933289"
            ]
          },
          "metadata": {},
          "execution_count": 1
        }
      ],
      "source": [
        "#5.RNN\n",
        "import numpy as np\n",
        "import tensorflow as tf\n",
        "from tensorflow import keras\n",
        "model = keras.Sequential([keras.layers.SimpleRNN(32, input_shape=(10,1)),keras.layers.Dense(1)])\n",
        "model.compile(optimizer='adam', loss='mse')\n",
        "X_train = np.random.randn(100, 10, 1)\n",
        "y_train = np.random.randn(100, 1)\n",
        "model.fit(X_train, y_train, epochs=10, batch_size=32)\n",
        "X_test = np.random.randn(10, 10, 1)\n",
        "y_test = np.random.randn(10, 1)\n",
        "model.evaluate(X_test, y_test)"
      ]
    }
  ]
}