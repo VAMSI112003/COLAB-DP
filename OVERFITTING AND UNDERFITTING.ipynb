{
  "nbformat": 4,
  "nbformat_minor": 0,
  "metadata": {
    "colab": {
      "provenance": [],
      "authorship_tag": "ABX9TyMddGCuFTzXV0t0X41wN7Sd",
      "include_colab_link": true
    },
    "kernelspec": {
      "name": "python3",
      "display_name": "Python 3"
    },
    "language_info": {
      "name": "python"
    }
  },
  "cells": [
    {
      "cell_type": "markdown",
      "metadata": {
        "id": "view-in-github",
        "colab_type": "text"
      },
      "source": [
        "<a href=\"https://colab.research.google.com/github/VAMSI112003/COLAB-DP/blob/main/OVERFITTING%20AND%20UNDERFITTING.ipynb\" target=\"_parent\"><img src=\"https://colab.research.google.com/assets/colab-badge.svg\" alt=\"Open In Colab\"/></a>"
      ]
    },
    {
      "cell_type": "code",
      "execution_count": 1,
      "metadata": {
        "colab": {
          "base_uri": "https://localhost:8080/"
        },
        "id": "01NnmPUDYNvL",
        "outputId": "0045052c-ed33-485c-f20a-703d8a6c3c38"
      },
      "outputs": [
        {
          "output_type": "stream",
          "name": "stdout",
          "text": [
            "Max leaf nodes: 5  \t\t Mean Absolute Error: 347380\n",
            "Max leaf nodes: 50  \t\t Mean Absolute Error: 258171\n",
            "Max leaf nodes: 500  \t\t Mean Absolute Error: 243495\n",
            "Max leaf nodes: 5000  \t\t Mean Absolute Error: 255575\n"
          ]
        }
      ],
      "source": [
        "#3.Overfitting and Underfitting\n",
        "import pandas as pd\n",
        "from sklearn.metrics import mean_absolute_error\n",
        "from sklearn.tree import DecisionTreeRegressor\n",
        "from sklearn.model_selection import train_test_split\n",
        "def get_mae(max_leaf_nodes,train_X,val_X, train_y, val_y):\n",
        "  model=DecisionTreeRegressor(max_leaf_nodes=max_leaf_nodes,random_state=0)\n",
        "  model.fit(train_X,train_y)\n",
        "  preds_val=model.predict(val_X)\n",
        "  mae = mean_absolute_error(val_y,preds_val)\n",
        "  return (mae )\n",
        "melbourne_data=pd.read_csv('melb_data.csv')\n",
        "filtered_melbourne_data=melbourne_data.dropna(axis=0)\n",
        "y= filtered_melbourne_data.Price\n",
        "melbourne_features = ['Rooms', 'Bathroom', 'Landsize' ,'BuildingArea' ,'YearBuilt' ,'Lattitude', 'Longtitude']\n",
        "X= filtered_melbourne_data[melbourne_features]\n",
        "train_X, val_X, train_y, val_y=train_test_split(X, y, random_state=0)\n",
        "for max_leaf_nodes in [5, 50, 500, 5000]:\n",
        "  my_mae=get_mae(max_leaf_nodes, train_X, val_X, train_y, val_y)\n",
        "  print(\"Max leaf nodes: %d  \\t\\t Mean Absolute Error: %d\" %(max_leaf_nodes,my_mae) )"
      ]
    }
  ]
}